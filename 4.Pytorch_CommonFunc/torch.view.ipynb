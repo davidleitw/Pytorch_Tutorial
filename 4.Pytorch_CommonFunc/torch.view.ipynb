{
 "cells": [
  {
   "cell_type": "code",
   "execution_count": 1,
   "metadata": {},
   "outputs": [],
   "source": [
    "import torch"
   ]
  },
  {
   "cell_type": "code",
   "execution_count": 22,
   "metadata": {},
   "outputs": [
    {
     "name": "stdout",
     "output_type": "stream",
     "text": [
      "tensor([[1., 2., 3.],\n",
      "        [4., 5., 6.]])\n",
      "tensor([1., 2., 3., 4., 5., 6.])\n",
      "x1.shape = torch.Size([2, 3])\n",
      "x2.shape = torch.Size([6])\n",
      "\n",
      "\n",
      "tensor([[1.],\n",
      "        [2.],\n",
      "        [3.],\n",
      "        [4.],\n",
      "        [5.],\n",
      "        [6.]])\n",
      "tensor([[1., 2., 3., 4., 5., 6.]])\n",
      "y1.shape = torch.Size([6, 1])\n",
      "y2.shape = torch.Size([1, 6])\n",
      "\n",
      "\n",
      "tensor([[1., 2.],\n",
      "        [3., 4.],\n",
      "        [5., 6.]])\n",
      "tensor([[1., 2., 3.],\n",
      "        [4., 5., 6.]])\n",
      "z1.shape = torch.Size([3, 2])\n",
      "z2.shape = torch.Size([2, 3])\n",
      "\n",
      "\n"
     ]
    }
   ],
   "source": [
    "#x1 = torch.Tensor([[[1, 2, 3],[4, 5, 6]]])\n",
    "# More detail please go to https://pytorch.org/docs/stable/tensors.html\n",
    "# torch.view() Returns a new tensor with the same data as the self tensor but of a different shape.\n",
    "x1 = torch.Tensor([[1, 2, 3], [4, 5, 6]])\n",
    "x2 = torch.Tensor([1, 2, 3, 4, 5, 6])\n",
    "print(x1)\n",
    "print(x2)\n",
    "print('x1.shape = {s}'.format(s=x1.shape))\n",
    "print('x2.shape = {s}\\n\\n'.format(s=x2.shape))\n",
    "\n",
    "y1 = x1.view(6, 1)\n",
    "y2 = x2.view(1, 6)\n",
    "print(y1)\n",
    "print(y2)\n",
    "print('y1.shape = {s}'.format(s=y1.shape))\n",
    "print('y2.shape = {s}\\n\\n'.format(s=y2.shape))\n",
    "\n",
    "# -1 can auto input another number about the tensor\n",
    "# 6 ===>(3,-1) mean -1 = 2\n",
    "z1 = x1.view(3, -1)\n",
    "z2 = x2.view(-1, 3)\n",
    "print(z1)\n",
    "print(z2)\n",
    "print('z1.shape = {s}'.format(s=z1.shape))\n",
    "print('z2.shape = {s}\\n\\n'.format(s=z2.shape))"
   ]
  },
  {
   "cell_type": "code",
   "execution_count": null,
   "metadata": {},
   "outputs": [],
   "source": []
  }
 ],
 "metadata": {
  "kernelspec": {
   "display_name": "Python 3",
   "language": "python",
   "name": "python3"
  },
  "language_info": {
   "codemirror_mode": {
    "name": "ipython",
    "version": 3
   },
   "file_extension": ".py",
   "mimetype": "text/x-python",
   "name": "python",
   "nbconvert_exporter": "python",
   "pygments_lexer": "ipython3",
   "version": "3.6.6"
  }
 },
 "nbformat": 4,
 "nbformat_minor": 2
}
