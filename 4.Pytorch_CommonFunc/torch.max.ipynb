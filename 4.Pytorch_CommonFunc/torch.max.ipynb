{
 "cells": [
  {
   "cell_type": "code",
   "execution_count": 1,
   "metadata": {},
   "outputs": [],
   "source": [
    "import torch\n",
    "import numpy as np\n",
    "# torch.max \n",
    "# torch.max(input, dim, keepdim=False, out=None) -> (Tensor, LongTensor) it's a tuple \n",
    "# More detail you can see https://pytorch.org/docs/stable/torch.html"
   ]
  },
  {
   "cell_type": "code",
   "execution_count": 10,
   "metadata": {},
   "outputs": [
    {
     "name": "stdout",
     "output_type": "stream",
     "text": [
      "tensor([[ 0.4870, -0.6830, -2.4234]])\n",
      "torch.Size([1, 3]) \n",
      "\n",
      "\n",
      "tensor(0.4870)\n"
     ]
    }
   ],
   "source": [
    "x1 = torch.randn(1, 3)\n",
    "print(x1)\n",
    "print(x1.shape,'\\n\\n')\n",
    "\n",
    "y1 = torch.max(x1)\n",
    "print(y1)"
   ]
  },
  {
   "cell_type": "code",
   "execution_count": 12,
   "metadata": {},
   "outputs": [
    {
     "name": "stdout",
     "output_type": "stream",
     "text": [
      "tensor([[-0.3302,  0.0905, -2.2868],\n",
      "        [-1.1429,  1.7783, -0.6607],\n",
      "        [ 0.2931,  0.8682,  1.3410]])\n",
      "torch.Size([3, 3]) \n",
      "\n",
      "\n",
      "(tensor([0.2931, 1.7783, 1.3410]), tensor([2, 1, 2]))\n"
     ]
    }
   ],
   "source": [
    "x2 = torch.randn(3, 3)\n",
    "print(x2)\n",
    "print(x2.shape,'\\n\\n')\n",
    "\n",
    "# torch.max(x, 0) 輸出每個直行中的最大值, 並且給出其在該行中的索引值\n",
    "y2 = torch.max(x2, 0)\n",
    "print(y2)"
   ]
  },
  {
   "cell_type": "code",
   "execution_count": 17,
   "metadata": {},
   "outputs": [
    {
     "name": "stdout",
     "output_type": "stream",
     "text": [
      "tensor([[ 0.3923, -0.9009, -1.3612],\n",
      "        [ 0.6998, -1.6428,  0.7614],\n",
      "        [ 0.7039,  0.3317, -0.0942]])\n",
      "torch.Size([3, 3]) \n",
      "\n",
      "\n",
      "(tensor([0.3923, 0.7614, 0.7039]), tensor([0, 2, 0]))\n",
      "<class 'tuple'>\n",
      "2\n"
     ]
    }
   ],
   "source": [
    "x3 = torch.randn(3, 3)\n",
    "print(x3)\n",
    "print(x3.shape,'\\n\\n')\n",
    "\n",
    "# torch.max(x, 0) 輸出每個橫列中的最大值, 並且給出其在該列中的索引值\n",
    "y3 = torch.max(x3, 1)\n",
    "print(y3)"
   ]
  },
  {
   "cell_type": "code",
   "execution_count": null,
   "metadata": {},
   "outputs": [],
   "source": [
    "# torch.max()[0]， 只返回最大值的每個數 \n",
    "# troch.max()[1]， 只返回最大值的每個索引"
   ]
  }
 ],
 "metadata": {
  "kernelspec": {
   "display_name": "Python 3",
   "language": "python",
   "name": "python3"
  },
  "language_info": {
   "codemirror_mode": {
    "name": "ipython",
    "version": 3
   },
   "file_extension": ".py",
   "mimetype": "text/x-python",
   "name": "python",
   "nbconvert_exporter": "python",
   "pygments_lexer": "ipython3",
   "version": "3.6.6"
  }
 },
 "nbformat": 4,
 "nbformat_minor": 2
}
