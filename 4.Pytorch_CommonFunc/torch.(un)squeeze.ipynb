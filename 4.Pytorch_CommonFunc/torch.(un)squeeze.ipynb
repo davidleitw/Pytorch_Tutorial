{
 "cells": [
  {
   "cell_type": "code",
   "execution_count": 1,
   "metadata": {},
   "outputs": [],
   "source": [
    "import torch\n",
    "import numpy as np\n",
    "# torch.squeeze(), torch.unsqueeze() example"
   ]
  },
  {
   "cell_type": "code",
   "execution_count": 12,
   "metadata": {},
   "outputs": [
    {
     "name": "stdout",
     "output_type": "stream",
     "text": [
      "torch.Size([1, 3])\n",
      "tensor([[1.5891, 1.4483, 0.2205]]) \n",
      "\n",
      "\n",
      "torch.Size([1, 1, 3])\n",
      "tensor([[[1.5891, 1.4483, 0.2205]]]) \n",
      "\n",
      "\n",
      "torch.Size([1, 1, 3])\n",
      "tensor([[[1.5891, 1.4483, 0.2205]]]) \n",
      "\n",
      "\n",
      "torch.Size([3])\n",
      "tensor([1.5891, 1.4483, 0.2205])\n"
     ]
    }
   ],
   "source": [
    "x1 = torch.randn(1, 3)\n",
    "print(x1.shape)\n",
    "print(x1,'\\n\\n')\n",
    "\n",
    "y1 = torch.unsqueeze(x1, 1)\n",
    "print(y1.shape)\n",
    "print(y1,'\\n\\n')\n",
    "\n",
    "z1 = x1.unsqueeze(0)\n",
    "print(z1.shape)\n",
    "print(z1,'\\n\\n')\n",
    "\n",
    "w1 = torch.squeeze(z1)\n",
    "print(w1.shape)\n",
    "print(w1)\n"
   ]
  },
  {
   "cell_type": "code",
   "execution_count": 9,
   "metadata": {},
   "outputs": [
    {
     "name": "stdout",
     "output_type": "stream",
     "text": [
      "tensor([-0.5283,  0.2551, -0.9952])\n",
      "torch.Size([3])\n",
      "torch.Size([1, 3])\n"
     ]
    }
   ],
   "source": [
    "x2 = torch.randn(3)\n",
    "print(x2)\n",
    "print(x2.shape)\n",
    "\n",
    "y2 = x2.unsqueeze(0)\n",
    "print(y2.shape)"
   ]
  },
  {
   "cell_type": "code",
   "execution_count": null,
   "metadata": {},
   "outputs": [],
   "source": []
  }
 ],
 "metadata": {
  "kernelspec": {
   "display_name": "Python 3",
   "language": "python",
   "name": "python3"
  },
  "language_info": {
   "codemirror_mode": {
    "name": "ipython",
    "version": 3
   },
   "file_extension": ".py",
   "mimetype": "text/x-python",
   "name": "python",
   "nbconvert_exporter": "python",
   "pygments_lexer": "ipython3",
   "version": "3.6.6"
  }
 },
 "nbformat": 4,
 "nbformat_minor": 2
}
