{
 "cells": [
  {
   "cell_type": "code",
   "execution_count": 1,
   "metadata": {},
   "outputs": [],
   "source": [
    "import torch\n",
    "import numpy as np\n",
    "torch.manual_seed(1)\n",
    "# torch.cat(tensors, dim=0, out=None)\n",
    "# Concatenates the given sequence of seq tensors in the given dimension. \n",
    "# All tensors must either have the same shape (except in the concatenating dimension) or be empty.\n"
   ]
  },
  {
   "cell_type": "code",
   "execution_count": 9,
   "metadata": {},
   "outputs": [
    {
     "name": "stdout",
     "output_type": "stream",
     "text": [
      "tensor([[-1.1900,  0.2783, -0.2173,  1.1211],\n",
      "        [ 0.5826, -0.5303, -0.0781,  0.4046]])\n",
      "x1.size() = torch.Size([2, 4])\n",
      "\n",
      " tensor([[-1.1900,  0.2783, -0.2173,  1.1211],\n",
      "        [ 0.5826, -0.5303, -0.0781,  0.4046],\n",
      "        [-1.1900,  0.2783, -0.2173,  1.1211],\n",
      "        [ 0.5826, -0.5303, -0.0781,  0.4046]])\n",
      "x2.size() = torch.Size([4, 4])\n",
      "\n",
      " tensor([[-1.1900,  0.2783, -0.2173,  1.1211, -1.1900,  0.2783, -0.2173,  1.1211],\n",
      "        [ 0.5826, -0.5303, -0.0781,  0.4046,  0.5826, -0.5303, -0.0781,  0.4046]])\n",
      "x3.size() = torch.Size([2, 8])\n"
     ]
    }
   ],
   "source": [
    "# Example 1\n",
    "x1 = torch.randn(2,4)\n",
    "print(x1)\n",
    "print('x1.size() = {s}'.format(s=x1.size()))\n",
    "\n",
    "x2 = torch.cat((x1,x1),0)\n",
    "print('\\n',x2)\n",
    "print('x2.size() = {s}'.format(s=x2.size()))\n",
    "\n",
    "x3 = torch.cat((x1,x1),1)\n",
    "print('\\n',x3)\n",
    "print('x3.size() = {s}'.format(s=x3.size()))"
   ]
  },
  {
   "cell_type": "code",
   "execution_count": 18,
   "metadata": {},
   "outputs": [
    {
     "name": "stdout",
     "output_type": "stream",
     "text": [
      "tensor([[-2.3388,  0.8742,  1.4090],\n",
      "        [-0.9874,  0.8452,  0.3652]])\n",
      "x.size() = torch.Size([2, 3])\n",
      "\n",
      "\n",
      "tensor([[-1.0773,  1.2123, -1.0356]])\n",
      "y.size() = torch.Size([1, 3])\n",
      "\n",
      "\n",
      "tensor([[-2.3388,  0.8742,  1.4090],\n",
      "        [-0.9874,  0.8452,  0.3652],\n",
      "        [-1.0773,  1.2123, -1.0356]])\n",
      "z.size() = torch.Size([3, 3])\n",
      "\n",
      "\n"
     ]
    }
   ],
   "source": [
    "# Example 2\n",
    "x = torch.randn(2,3)\n",
    "y = torch.randn(1,3)\n",
    "\n",
    "print(x)\n",
    "print('x.size() = {s}\\n\\n'.format(s=x.size()))\n",
    "\n",
    "print(y)\n",
    "print('y.size() = {s}\\n\\n'.format(s=y.size()))\n",
    "\n",
    "z = torch.cat((x,y),0)\n",
    "print(z)\n",
    "print('z.size() = {s}\\n\\n'.format(s=z.size()))\n",
    "\n",
    "# If w = torch.cat((x,y),1) , it will be wrong,because if you want to cat in dim1 , dim0"
   ]
  },
  {
   "cell_type": "code",
   "execution_count": null,
   "metadata": {},
   "outputs": [],
   "source": []
  }
 ],
 "metadata": {
  "kernelspec": {
   "display_name": "Python 3",
   "language": "python",
   "name": "python3"
  },
  "language_info": {
   "codemirror_mode": {
    "name": "ipython",
    "version": 3
   },
   "file_extension": ".py",
   "mimetype": "text/x-python",
   "name": "python",
   "nbconvert_exporter": "python",
   "pygments_lexer": "ipython3",
   "version": "3.6.6"
  }
 },
 "nbformat": 4,
 "nbformat_minor": 2
}
