{
 "cells": [
  {
   "cell_type": "code",
   "execution_count": 24,
   "metadata": {},
   "outputs": [],
   "source": [
    "import torch\n",
    "import torch.nn as nn\n",
    "import torch.nn.functional as F\n",
    "import numpy as np\n",
    "import matplotlib.pyplot as plt"
   ]
  },
  {
   "cell_type": "code",
   "execution_count": 25,
   "metadata": {},
   "outputs": [],
   "source": [
    "# Two way to make you own neural network\n",
    "# Way 1 \n",
    "class NeuralNetwork(nn.Module):\n",
    "    def __init__(self,inputsize,outputsize):\n",
    "        super (NeuralNetwork,self).__init__() # This line is necessary\n",
    "        self.n1 = nn.Linear(inputsize,5)\n",
    "        self.n2 = nn.Linear(5,outputsize)\n",
    "        # input --> 5 --> output neural network\n",
    "        # hidden layer has 5 neurons\n",
    "    def forward(self,x):                      # Define forward and activation function\n",
    "        x = F.relu(self.n1(x))\n",
    "        x = self.n2(x)\n",
    "        return x"
   ]
  },
  {
   "cell_type": "code",
   "execution_count": 26,
   "metadata": {},
   "outputs": [],
   "source": [
    "Inputsize = 2\n",
    "Outputsize = 2"
   ]
  },
  {
   "cell_type": "code",
   "execution_count": 27,
   "metadata": {},
   "outputs": [
    {
     "name": "stdout",
     "output_type": "stream",
     "text": [
      "NeuralNetwork(\n",
      "  (n1): Linear(in_features=2, out_features=5, bias=True)\n",
      "  (n2): Linear(in_features=5, out_features=2, bias=True)\n",
      ")\n"
     ]
    }
   ],
   "source": [
    "# Build nn\n",
    "Model_1 = NeuralNetwork(Inputsize,Outputsize)\n",
    "print(Model_1)"
   ]
  },
  {
   "cell_type": "code",
   "execution_count": 37,
   "metadata": {},
   "outputs": [
    {
     "name": "stdout",
     "output_type": "stream",
     "text": [
      "Sequential(\n",
      "  (0): Linear(in_features=2, out_features=5, bias=True)\n",
      "  (1): ReLU()\n",
      "  (2): Linear(in_features=5, out_features=2, bias=True)\n",
      ")\n"
     ]
    }
   ],
   "source": [
    "# Way 2 \n",
    "Model_2 = nn.Sequential(\n",
    "    nn.Linear(Inputsize,5),\n",
    "    nn.ReLU(),\n",
    "    nn.Linear(5,Outputsize),\n",
    ")\n",
    "print(Model_2)\n",
    "\n",
    "# Way 1 and Way 2 are the same "
   ]
  }
 ],
 "metadata": {
  "kernelspec": {
   "display_name": "Python 3",
   "language": "python",
   "name": "python3"
  },
  "language_info": {
   "codemirror_mode": {
    "name": "ipython",
    "version": 3
   },
   "file_extension": ".py",
   "mimetype": "text/x-python",
   "name": "python",
   "nbconvert_exporter": "python",
   "pygments_lexer": "ipython3",
   "version": "3.6.6"
  }
 },
 "nbformat": 4,
 "nbformat_minor": 2
}
