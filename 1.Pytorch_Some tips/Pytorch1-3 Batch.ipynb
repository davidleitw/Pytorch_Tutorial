{
 "cells": [
  {
   "cell_type": "code",
   "execution_count": 24,
   "metadata": {},
   "outputs": [
    {
     "data": {
      "text/plain": [
       "<torch._C.Generator at 0x179ffa0ac50>"
      ]
     },
     "execution_count": 24,
     "metadata": {},
     "output_type": "execute_result"
    }
   ],
   "source": [
    "import torch\n",
    "import numpy as np\n",
    "import torch.nn as nn\n",
    "import torch.nn.functional as F\n",
    "# More detail can watch https://pytorch.org/docs/stable/data.html \n",
    "# You can learn more about how pytorch to do batch training.\n",
    "torch.manual_seed(1)"
   ]
  },
  {
   "cell_type": "code",
   "execution_count": 38,
   "metadata": {},
   "outputs": [
    {
     "name": "stdout",
     "output_type": "stream",
     "text": [
      "<class 'torch.utils.data.dataloader.DataLoader'>\n",
      "8\n",
      "Epoch 0 ,Step 0 ,Batch_x = [1. 2. 3. 4. 5.]      ,Batch_y = [40. 39. 38. 37. 36.].\n",
      "Epoch 0 ,Step 1 ,Batch_x = [ 6.  7.  8.  9. 10.] ,Batch_y = [35. 34. 33. 32. 31.].\n",
      "Epoch 0 ,Step 2 ,Batch_x = [11. 12. 13. 14. 15.] ,Batch_y = [30. 29. 28. 27. 26.].\n",
      "Epoch 0 ,Step 3 ,Batch_x = [16. 17. 18. 19. 20.] ,Batch_y = [25. 24. 23. 22. 21.].\n",
      "Epoch 0 ,Step 4 ,Batch_x = [21. 22. 23. 24. 25.] ,Batch_y = [20. 19. 18. 17. 16.].\n",
      "Epoch 0 ,Step 5 ,Batch_x = [26. 27. 28. 29. 30.] ,Batch_y = [15. 14. 13. 12. 11.].\n",
      "Epoch 0 ,Step 6 ,Batch_x = [31. 32. 33. 34. 35.] ,Batch_y = [10.  9.  8.  7.  6.].\n",
      "Epoch 0 ,Step 7 ,Batch_x = [36. 37. 38. 39. 40.] ,Batch_y = [5. 4. 3. 2. 1.].\n",
      "Epoch 1 ,Step 0 ,Batch_x = [1. 2. 3. 4. 5.]      ,Batch_y = [40. 39. 38. 37. 36.].\n",
      "Epoch 1 ,Step 1 ,Batch_x = [ 6.  7.  8.  9. 10.] ,Batch_y = [35. 34. 33. 32. 31.].\n",
      "Epoch 1 ,Step 2 ,Batch_x = [11. 12. 13. 14. 15.] ,Batch_y = [30. 29. 28. 27. 26.].\n",
      "Epoch 1 ,Step 3 ,Batch_x = [16. 17. 18. 19. 20.] ,Batch_y = [25. 24. 23. 22. 21.].\n",
      "Epoch 1 ,Step 4 ,Batch_x = [21. 22. 23. 24. 25.] ,Batch_y = [20. 19. 18. 17. 16.].\n",
      "Epoch 1 ,Step 5 ,Batch_x = [26. 27. 28. 29. 30.] ,Batch_y = [15. 14. 13. 12. 11.].\n",
      "Epoch 1 ,Step 6 ,Batch_x = [31. 32. 33. 34. 35.] ,Batch_y = [10.  9.  8.  7.  6.].\n",
      "Epoch 1 ,Step 7 ,Batch_x = [36. 37. 38. 39. 40.] ,Batch_y = [5. 4. 3. 2. 1.].\n",
      "Epoch 2 ,Step 0 ,Batch_x = [1. 2. 3. 4. 5.]      ,Batch_y = [40. 39. 38. 37. 36.].\n",
      "Epoch 2 ,Step 1 ,Batch_x = [ 6.  7.  8.  9. 10.] ,Batch_y = [35. 34. 33. 32. 31.].\n",
      "Epoch 2 ,Step 2 ,Batch_x = [11. 12. 13. 14. 15.] ,Batch_y = [30. 29. 28. 27. 26.].\n",
      "Epoch 2 ,Step 3 ,Batch_x = [16. 17. 18. 19. 20.] ,Batch_y = [25. 24. 23. 22. 21.].\n",
      "Epoch 2 ,Step 4 ,Batch_x = [21. 22. 23. 24. 25.] ,Batch_y = [20. 19. 18. 17. 16.].\n",
      "Epoch 2 ,Step 5 ,Batch_x = [26. 27. 28. 29. 30.] ,Batch_y = [15. 14. 13. 12. 11.].\n",
      "Epoch 2 ,Step 6 ,Batch_x = [31. 32. 33. 34. 35.] ,Batch_y = [10.  9.  8.  7.  6.].\n",
      "Epoch 2 ,Step 7 ,Batch_x = [36. 37. 38. 39. 40.] ,Batch_y = [5. 4. 3. 2. 1.].\n"
     ]
    }
   ],
   "source": [
    "# DataSet\n",
    "x = torch.linspace(1,40,40)\n",
    "y = torch.linspace(40,1,40)\n",
    "Batch_Size = 5\n",
    "\n",
    "DataSet = torch.utils.data.TensorDataset(x,y)\n",
    "# print(DataSet.tensors)            \n",
    "DataLoader = torch.utils.data.DataLoader(dataset=DataSet ,batch_size=Batch_Size ,shuffle=False ,num_workers=2)\n",
    "print(type(DataLoader))\n",
    "print(len(DataLoader))\n",
    "\n",
    "for epoch in range(3):\n",
    "    for step,(x,y) in enumerate(DataLoader):\n",
    "        if x[0]==1:\n",
    "            print(\"Epoch {e} ,Step {s} ,Batch_x = {bx}      ,Batch_y = {by}.\".format(e=epoch,s=step,bx=x.numpy(),by=y.numpy()))\n",
    "        else:\n",
    "            print(\"Epoch {e} ,Step {s} ,Batch_x = {bx} ,Batch_y = {by}.\".format(e=epoch,s=step,bx=x.numpy(),by=y.numpy()))\n",
    "        \n"
   ]
  },
  {
   "cell_type": "code",
   "execution_count": 37,
   "metadata": {},
   "outputs": [
    {
     "name": "stdout",
     "output_type": "stream",
     "text": [
      "Epoch 0 ,Step 0 ,Batch_x = [24. 18. 14.  4. 21. 23. 29. 10.] ,Batch_y = [17. 23. 27. 37. 20. 18. 12. 31.].\n",
      "Epoch 0 ,Step 1 ,Batch_x = [25. 30. 22. 11. 26. 17. 33.  3.] ,Batch_y = [16. 11. 19. 30. 15. 24.  8. 38.].\n",
      "Epoch 0 ,Step 2 ,Batch_x = [38. 15. 19. 32. 28. 20. 13. 36.] ,Batch_y = [ 3. 26. 22.  9. 13. 21. 28.  5.].\n",
      "Epoch 0 ,Step 3 ,Batch_x = [40.  1. 27.  6.  2. 12. 34. 37.] ,Batch_y = [ 1. 40. 14. 35. 39. 29.  7.  4.].\n",
      "Epoch 0 ,Step 4 ,Batch_x = [39.  5. 35.  8.  7. 31.  9. 16.] ,Batch_y = [ 2. 36.  6. 33. 34. 10. 32. 25.].\n",
      "Epoch 1 ,Step 0 ,Batch_x = [16. 26. 22. 20. 38.  6.  8.  1.] ,Batch_y = [25. 15. 19. 21.  3. 35. 33. 40.].\n",
      "Epoch 1 ,Step 1 ,Batch_x = [11. 12. 17. 33. 31. 18. 28. 35.] ,Batch_y = [30. 29. 24.  8. 10. 23. 13.  6.].\n",
      "Epoch 1 ,Step 2 ,Batch_x = [34. 39. 29.  5.  7. 25. 13. 27.] ,Batch_y = [ 7.  2. 12. 36. 34. 16. 28. 14.].\n",
      "Epoch 1 ,Step 3 ,Batch_x = [24. 15. 32. 10.  2. 30. 14. 37.] ,Batch_y = [17. 26.  9. 31. 39. 11. 27.  4.].\n",
      "Epoch 1 ,Step 4 ,Batch_x = [36.  9.  3.  4. 40. 19. 21. 23.] ,Batch_y = [ 5. 32. 38. 37.  1. 22. 20. 18.].\n",
      "Epoch 2 ,Step 0 ,Batch_x = [22. 29. 14.  5. 13. 12. 11. 38.] ,Batch_y = [19. 12. 27. 36. 28. 29. 30.  3.].\n",
      "Epoch 2 ,Step 1 ,Batch_x = [ 7. 20. 32.  3. 34. 19. 23. 30.] ,Batch_y = [34. 21.  9. 38.  7. 22. 18. 11.].\n",
      "Epoch 2 ,Step 2 ,Batch_x = [27. 31. 33. 35. 40.  8. 37. 24.] ,Batch_y = [14. 10.  8.  6.  1. 33.  4. 17.].\n",
      "Epoch 2 ,Step 3 ,Batch_x = [ 9. 26.  4. 25. 18. 39. 15. 28.] ,Batch_y = [32. 15. 37. 16. 23.  2. 26. 13.].\n",
      "Epoch 2 ,Step 4 ,Batch_x = [36. 10. 17.  6.  2. 21. 16.  1.] ,Batch_y = [ 5. 31. 24. 35. 39. 20. 25. 40.].\n"
     ]
    }
   ],
   "source": [
    "# Change Batch_Size ,and check the result.\n",
    "Batch_Size = 8\n",
    "DataLoader = torch.utils.data.DataLoader(dataset=DataSet ,batch_size=Batch_Size ,shuffle=True ,num_workers=2)\n",
    "\n",
    "for epoch in range(3):\n",
    "    for step,(x,y) in enumerate(DataLoader):\n",
    "        #print(\"Epoch {e} ,Step {s} ,Batch_x = {bx} ,Batch_y = {by}.\".format(e=epoch,s=step,bx=x.numpy(),by=y.numpy()))\n",
    "            print(\"Epoch {e} ,Step {s} ,Batch_x = {bx} ,Batch_y = {by}.\".format(e=epoch,s=step+1,bx=x.numpy(),by=y.numpy()))\n"
   ]
  },
  {
   "cell_type": "code",
   "execution_count": null,
   "metadata": {},
   "outputs": [],
   "source": []
  }
 ],
 "metadata": {
  "kernelspec": {
   "display_name": "Python 3",
   "language": "python",
   "name": "python3"
  },
  "language_info": {
   "codemirror_mode": {
    "name": "ipython",
    "version": 3
   },
   "file_extension": ".py",
   "mimetype": "text/x-python",
   "name": "python",
   "nbconvert_exporter": "python",
   "pygments_lexer": "ipython3",
   "version": "3.6.6"
  }
 },
 "nbformat": 4,
 "nbformat_minor": 2
}
