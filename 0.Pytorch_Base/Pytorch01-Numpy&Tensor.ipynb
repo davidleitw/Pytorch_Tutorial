{
 "cells": [
  {
   "cell_type": "code",
   "execution_count": 84,
   "metadata": {},
   "outputs": [
    {
     "name": "stdout",
     "output_type": "stream",
     "text": [
      "0.4.1\n",
      "1.14.5\n"
     ]
    }
   ],
   "source": [
    "import torch\n",
    "import numpy as np\n",
    "# Show version\n",
    "print(torch.__version__)\n",
    "print(np.__version__)"
   ]
  },
  {
   "cell_type": "code",
   "execution_count": 99,
   "metadata": {},
   "outputs": [
    {
     "name": "stdout",
     "output_type": "stream",
     "text": [
      "tensor([[0, 1, 2],\n",
      "        [3, 4, 5]], dtype=torch.int32)\n",
      "type(tdata) = torch.IntTensor\n",
      "[[0 1 2]\n",
      " [3 4 5]]\n",
      "type(ndata2) = <class 'numpy.ndarray'>\n"
     ]
    }
   ],
   "source": [
    "ndata = np.arange(6).reshape(2,3)   # 2*3 matrix\n",
    "tdata = torch.from_numpy(ndata)     # use from_numpy change numpy to tensor\n",
    "ndata2 = tdata.numpy()              # Use numpy() change tensor to numpy \n",
    "print(tdata)\n",
    "print('type(tdata) =',tdata.type()) # If variable is a tensor ,you should use variable.type() to understand it's type\n",
    "                                    # Use type(variable) always show <class 'torch.Tensor'> , can not know the detail\n",
    "print(ndata2)\n",
    "print('type(ndata2) =',type(ndata2))"
   ]
  },
  {
   "cell_type": "code",
   "execution_count": 94,
   "metadata": {},
   "outputs": [
    {
     "name": "stdout",
     "output_type": "stream",
     "text": [
      "tensor([-1., -2.,  1.,  2.])\n",
      "torch.FloatTensor\n",
      "[-0.84147098 -0.90929743  0.84147098  0.90929743]\n",
      "tensor([-0.8415, -0.9093,  0.8415,  0.9093])\n"
     ]
    }
   ],
   "source": [
    "# Introduce some math operation \n",
    "data = np.array([-1, -2, 1, 2])\n",
    "tensor = torch.FloatTensor(data)  # sin must to use float\n",
    "print(tensor)\n",
    "print(tensor.type())              # Use type() to know the type\n",
    "# Sin function\n",
    "print(np.sin(data))\n",
    "print(torch.sin(tensor))"
   ]
  },
  {
   "cell_type": "code",
   "execution_count": 87,
   "metadata": {},
   "outputs": [
    {
     "name": "stdout",
     "output_type": "stream",
     "text": [
      "tensor([0.2689, 0.1192, 0.7311, 0.8808])\n"
     ]
    }
   ],
   "source": [
    "# Sigmoid function\n",
    "print(torch.sigmoid(tensor))"
   ]
  },
  {
   "cell_type": "code",
   "execution_count": 88,
   "metadata": {},
   "outputs": [
    {
     "name": "stdout",
     "output_type": "stream",
     "text": [
      "[1 2 1 2]\n",
      "tensor([1., 2., 1., 2.])\n"
     ]
    }
   ],
   "source": [
    "# Abs function\n",
    "print(np.abs(data))\n",
    "print(torch.abs(tensor))"
   ]
  },
  {
   "cell_type": "code",
   "execution_count": 89,
   "metadata": {},
   "outputs": [
    {
     "name": "stdout",
     "output_type": "stream",
     "text": [
      "[0.36787944 0.13533528 2.71828183 7.3890561 ]\n",
      "tensor([0.3679, 0.1353, 2.7183, 7.3891])\n"
     ]
    }
   ],
   "source": [
    "# Exp function\n",
    "print(np.exp(data))\n",
    "print(torch.exp(tensor))"
   ]
  },
  {
   "cell_type": "code",
   "execution_count": 90,
   "metadata": {},
   "outputs": [
    {
     "name": "stdout",
     "output_type": "stream",
     "text": [
      "0.0\n",
      "tensor(0.)\n"
     ]
    }
   ],
   "source": [
    "# Mean function\n",
    "# Returns the mean value of all elements in the input tensor.\n",
    "print(np.mean(data))\n",
    "print(torch.mean(tensor))"
   ]
  },
  {
   "cell_type": "code",
   "execution_count": 91,
   "metadata": {},
   "outputs": [
    {
     "name": "stdout",
     "output_type": "stream",
     "text": [
      "[[ 7 10]\n",
      " [15 22]]\n",
      "tensor([[ 7., 10.],\n",
      "        [15., 22.]])\n"
     ]
    }
   ],
   "source": [
    "### Matrix operation ###\n",
    "# Matrix multiplication\n",
    "Matrix = np.array([[1,2],[3,4]])\n",
    "Tensor = torch.FloatTensor(Matrix)\n",
    "\n",
    "# print(Tensor)\n",
    "print(np.matmul(Matrix,Matrix))\n",
    "\n",
    "# torch use mm function to do matrix multiplication\n",
    "# Performs a matrix multiplication of the matrices mat1 and mat2.\n",
    "# If mat1 is a (n×m) tensor, mat2 is a (m×p) tensor\n",
    "# ,out will be a (n×p) tensor.\n",
    "print(torch.mm(Tensor,Tensor)) "
   ]
  },
  {
   "cell_type": "code",
   "execution_count": 92,
   "metadata": {},
   "outputs": [
    {
     "name": "stdout",
     "output_type": "stream",
     "text": [
      "tensor([[ 1.,  4.],\n",
      "        [ 9., 16.]])\n"
     ]
    }
   ],
   "source": [
    "print(Tensor * Tensor) # "
   ]
  },
  {
   "cell_type": "code",
   "execution_count": 93,
   "metadata": {},
   "outputs": [
    {
     "name": "stdout",
     "output_type": "stream",
     "text": [
      "tensor(22.)\n"
     ]
    }
   ],
   "source": [
    "# Computes the dot product (inner product) of two tensors.\n",
    "print(torch.dot(torch.Tensor([5, 3]), torch.Tensor([2, 4]))) # 5*2 + 3*4"
   ]
  },
  {
   "cell_type": "code",
   "execution_count": null,
   "metadata": {},
   "outputs": [],
   "source": [
    "# More details about math operation in torch can be found in: http://pytorch.org/docs/torch.html#math-operations"
   ]
  }
 ],
 "metadata": {
  "kernelspec": {
   "display_name": "Python 3",
   "language": "python",
   "name": "python3"
  },
  "language_info": {
   "codemirror_mode": {
    "name": "ipython",
    "version": 3
   },
   "file_extension": ".py",
   "mimetype": "text/x-python",
   "name": "python",
   "nbconvert_exporter": "python",
   "pygments_lexer": "ipython3",
   "version": "3.6.6"
  }
 },
 "nbformat": 4,
 "nbformat_minor": 2
}
