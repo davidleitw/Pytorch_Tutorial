{
 "cells": [
  {
   "cell_type": "code",
   "execution_count": 1,
   "metadata": {},
   "outputs": [],
   "source": [
    "import torch\n",
    "import numpy as np\n",
    "from torch.autograd import Variable"
   ]
  },
  {
   "cell_type": "code",
   "execution_count": 55,
   "metadata": {},
   "outputs": [
    {
     "name": "stdout",
     "output_type": "stream",
     "text": [
      "tensor([[3., 4.],\n",
      "        [5., 7.]], requires_grad=True)\n",
      "tensor([[ 9., 16.],\n",
      "        [25., 49.]], grad_fn=<ThMulBackward>)\n",
      "tensor(9.9499, grad_fn=<NormBackward0>)\n",
      "None\n"
     ]
    }
   ],
   "source": [
    "tensor = torch.tensor([[3,4],[5,7]],requires_grad=True,dtype=torch.float) \n",
    "                        # Only dtype = float can require gradients\n",
    "                        # Create a tensor and set requires_grad=True to track computation with it\n",
    "print(tensor)\n",
    "print(tensor*tensor)\n",
    "print(tensor.norm())    # Return tensor norm\n",
    "print(tensor.grad)      # Before backward(),grad is not exist"
   ]
  },
  {
   "cell_type": "code",
   "execution_count": 47,
   "metadata": {},
   "outputs": [
    {
     "name": "stdout",
     "output_type": "stream",
     "text": [
      "tensor(24.7500, grad_fn=<MeanBackward1>)\n",
      "torch.FloatTensor\n"
     ]
    }
   ],
   "source": [
    "Compute = torch.mean(tensor*tensor) # 1/4 * sum(tensor^2)\n",
    "print(Compute)\n",
    "print(Compute.type())\n",
    "Compute.backward()                  # Backpropagation"
   ]
  },
  {
   "cell_type": "code",
   "execution_count": 48,
   "metadata": {},
   "outputs": [
    {
     "name": "stdout",
     "output_type": "stream",
     "text": [
      "tensor([[1.5000, 2.0000],\n",
      "        [2.5000, 3.5000]])\n"
     ]
    }
   ],
   "source": [
    "print(tensor.grad)                  # d(Compute)/d(tensor)"
   ]
  },
  {
   "cell_type": "code",
   "execution_count": 54,
   "metadata": {},
   "outputs": [
    {
     "name": "stdout",
     "output_type": "stream",
     "text": [
      "False\n",
      "True\n",
      "tensor([[22., 22., 22.],\n",
      "        [22., 22., 22.],\n",
      "        [22., 22., 22.]], requires_grad=True)\n"
     ]
    }
   ],
   "source": [
    "# Example 2\n",
    "Tensor = torch.ones(3,3)\n",
    "Tensor = Tensor*5 + 17       # Build a 3*3 matrix , value = 1*5 + 17\n",
    "\n",
    "print(Tensor.requires_grad)  # At the beginning , requires_grad = False\n",
    "Tensor.requires_grad = True\n",
    "print(Tensor.requires_grad)  # Change requires_grad to True\n",
    "print(Tensor)"
   ]
  }
 ],
 "metadata": {
  "kernelspec": {
   "display_name": "Python 3",
   "language": "python",
   "name": "python3"
  },
  "language_info": {
   "codemirror_mode": {
    "name": "ipython",
    "version": 3
   },
   "file_extension": ".py",
   "mimetype": "text/x-python",
   "name": "python",
   "nbconvert_exporter": "python",
   "pygments_lexer": "ipython3",
   "version": "3.6.6"
  }
 },
 "nbformat": 4,
 "nbformat_minor": 2
}
